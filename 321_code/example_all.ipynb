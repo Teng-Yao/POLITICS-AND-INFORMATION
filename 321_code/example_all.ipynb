{
 "cells": [
  {
   "cell_type": "markdown",
   "metadata": {},
   "source": [
    "## 資料型態介紹"
   ]
  },
  {
   "cell_type": "markdown",
   "metadata": {},
   "source": [
    "1. Panda基本介紹\n",
    "    \n",
    "    Pandas是一個基於Numpy的package，普遍用於數據操作\n",
    "    有兩種特殊的資料型態dataframe和serises的差別\n",
    "\n",
    "    > serises是一個一維的資料結構；dataframe則是二維的，像是表格的存在\n",
    "    > 不同的數據處理函式，會需要不同的數據類型    \n",
    "\n",
    "2. 基本數據類型介紹\n",
    "    \n",
    "    數值型態：\n",
    "    > int：整數 integer，ex:1, 34, 50....，這次資料的All_Reaction_Count、LIKE_COUNT\n",
    "    > float：浮點數 floating-point，含有小數點的,ex:1.4, 3.14\n",
    "    > bool：布林值 boolean，判斷是或否，只會有兩種 TRUE/FALSE，另外索引後回傳的結果也是\n",
    "    \n",
    "    字串型態：\n",
    "    > str：字串 string，用''或\"\"包起來的文字資料，ex:\"台灣基進\"、\"台灣民進黨\"...或像是這次的Page_Name、Message\n",
    "    > chr：字元 character，組成字串的元素，ex:\"台\"、\"灣\"...\n",
    "    \n",
    "    時間型態\n",
    "    > timestamp：存時間的格式，像是這次的Date，雖然看起來是時間的格式，但會被電腦認為是str，需要後續轉換\n",
    "    \n",
    "    容器型態\n",
    "    > list：列表，裡面的每個元素都會被分配到一個索引值，從0開始計算"
   ]
  },
  {
   "cell_type": "code",
   "execution_count": 1,
   "metadata": {},
   "outputs": [
    {
     "data": {
      "text/html": [
       "<div>\n",
       "<style scoped>\n",
       "    .dataframe tbody tr th:only-of-type {\n",
       "        vertical-align: middle;\n",
       "    }\n",
       "\n",
       "    .dataframe tbody tr th {\n",
       "        vertical-align: top;\n",
       "    }\n",
       "\n",
       "    .dataframe thead th {\n",
       "        text-align: right;\n",
       "    }\n",
       "</style>\n",
       "<table border=\"1\" class=\"dataframe\">\n",
       "  <thead>\n",
       "    <tr style=\"text-align: right;\">\n",
       "      <th></th>\n",
       "      <th>Date</th>\n",
       "      <th>Page_Name</th>\n",
       "      <th>Page_ID</th>\n",
       "      <th>Link</th>\n",
       "      <th>Type</th>\n",
       "      <th>All_Reaction_Count</th>\n",
       "      <th>LIKE_COUNT</th>\n",
       "      <th>WOW_COUNT</th>\n",
       "      <th>LOVE_COUNT</th>\n",
       "      <th>HAHA_COUNT</th>\n",
       "      <th>SAD_COUNT</th>\n",
       "      <th>ANGRY_COUNT</th>\n",
       "      <th>Comment_Count</th>\n",
       "      <th>Share_Count</th>\n",
       "      <th>Message</th>\n",
       "      <th>Link_Title</th>\n",
       "      <th>Link Description</th>\n",
       "      <th>created_time</th>\n",
       "    </tr>\n",
       "  </thead>\n",
       "  <tbody>\n",
       "    <tr>\n",
       "      <th>0</th>\n",
       "      <td>2020/01/11 20:07:46</td>\n",
       "      <td>台灣基進</td>\n",
       "      <td>348571125292077</td>\n",
       "      <td>NaN</td>\n",
       "      <td>photo</td>\n",
       "      <td>80928</td>\n",
       "      <td>74991</td>\n",
       "      <td>98</td>\n",
       "      <td>3847</td>\n",
       "      <td>1925</td>\n",
       "      <td>34</td>\n",
       "      <td>33</td>\n",
       "      <td>5732</td>\n",
       "      <td>4092</td>\n",
       "      <td>選舉過後，台灣基進不會停歇。\\n　\\n縱使韓國瑜沒有當選，他仍然在高雄破壞著我們的城市，仍會...</td>\n",
       "      <td>NaN</td>\n",
       "      <td>NaN</td>\n",
       "      <td>1578744466000</td>\n",
       "    </tr>\n",
       "  </tbody>\n",
       "</table>\n",
       "</div>"
      ],
      "text/plain": [
       "                  Date Page_Name          Page_ID  Link   Type  \\\n",
       "0  2020/01/11 20:07:46      台灣基進  348571125292077   NaN  photo   \n",
       "\n",
       "   All_Reaction_Count  LIKE_COUNT  WOW_COUNT  LOVE_COUNT  HAHA_COUNT  \\\n",
       "0               80928       74991         98        3847        1925   \n",
       "\n",
       "   SAD_COUNT  ANGRY_COUNT  Comment_Count  Share_Count  \\\n",
       "0         34           33           5732         4092   \n",
       "\n",
       "                                             Message Link_Title  \\\n",
       "0  選舉過後，台灣基進不會停歇。\\n　\\n縱使韓國瑜沒有當選，他仍然在高雄破壞著我們的城市，仍會...        NaN   \n",
       "\n",
       "  Link Description   created_time  \n",
       "0              NaN  1578744466000  "
      ]
     },
     "execution_count": 1,
     "metadata": {},
     "output_type": "execute_result"
    }
   ],
   "source": [
    "import pandas as pd\n",
    "csv_file = \"data/10802_2020_party.csv\"\n",
    "df = pd.read_csv(csv_file)\n",
    "\n",
    "df.head(1)"
   ]
  },
  {
   "cell_type": "markdown",
   "metadata": {},
   "source": [
    "這邊先拿Date欄位，當作series和dataframe比較的例子，\n",
    "另外我們可以發現Date裡面雖然儲存的是日期，但卻是「字串」的形式。\n",
    "所以後續在處理的時候，必須要再經過轉換才行。"
   ]
  },
  {
   "cell_type": "code",
   "execution_count": null,
   "metadata": {},
   "outputs": [],
   "source": [
    "#series和dataframe\n",
    "ser_a = df['Date']\n",
    "type(ser_a)\n",
    "\n",
    "df_a = pd.DataFrame(df['Date'])\n",
    "type(df_a)\n",
    "\n",
    "#看一下各自的資料型態\n",
    "ser_a \n",
    "df_a\n",
    "\n",
    "#Date原本的資料型太\n",
    "ser_a\n",
    "ser_a[0] #拿出index第0個的值\n",
    "\n",
    "#從str轉換到Timestamp\n",
    "type(ser_a[0])\n",
    "\n",
    "ser_a = pd.to_datetime(ser_a)\n",
    "type(ser_a[0])"
   ]
  },
  {
   "cell_type": "markdown",
   "metadata": {},
   "source": [
    "## 資料分析環節"
   ]
  },
  {
   "cell_type": "markdown",
   "metadata": {},
   "source": [
    "### 分析準備，設定中文字型\n",
    "\n",
    "+ 請用下面的程式碼找出matplotlib安裝套件的位子<br />\n",
    "`import matplotlib\n",
    "print(matplotlib.__file__)`<br />\n",
    "    。我們發現是在`C:\\Users\\User\\Anaconda3\\lib\\site-packages\\matplotlib\\__init__.py`\n",
    "\n",
    "+ 請將字體安裝包 `simsun.tff `安裝到字型資料夾中<br />\n",
    "    。用剛剛的路徑找`matplotlib\\mpl-data\\fonts\\ttf `，把`simsun.tff `放進去<br />\n",
    "    。通常為 `C:\\Users\\User\\Anaconda3\\Lib\\site-packages\\matplotlib\\mpl-data\\fonts\\ttf `<br />\n",
    "    。讀取  `plt.rcParams['font.sans-serif']=['simsun']  `這段程式碼的時候才抓地到字型<br />\n",
    "\n",
    "+ 更多字體可以上google font 查詢 https://www.google.com/get/noto/"
   ]
  },
  {
   "cell_type": "code",
   "execution_count": 49,
   "metadata": {},
   "outputs": [
    {
     "name": "stdout",
     "output_type": "stream",
     "text": [
      "C:\\Users\\User\\Anaconda3\\lib\\site-packages\\matplotlib\\__init__.py\n"
     ]
    }
   ],
   "source": [
    "import matplotlib\n",
    "print(matplotlib.__file__)"
   ]
  },
  {
   "cell_type": "code",
   "execution_count": 1,
   "metadata": {},
   "outputs": [],
   "source": [
    "import pandas as pd #讀取資料處理套件\n",
    "df = pd.read_csv(\"data/10802_2020_party.csv\") #讀取csv，資料存在df這個變數裡面"
   ]
  },
  {
   "cell_type": "code",
   "execution_count": 34,
   "metadata": {},
   "outputs": [
    {
     "data": {
      "text/html": [
       "<div>\n",
       "<style scoped>\n",
       "    .dataframe tbody tr th:only-of-type {\n",
       "        vertical-align: middle;\n",
       "    }\n",
       "\n",
       "    .dataframe tbody tr th {\n",
       "        vertical-align: top;\n",
       "    }\n",
       "\n",
       "    .dataframe thead th {\n",
       "        text-align: right;\n",
       "    }\n",
       "</style>\n",
       "<table border=\"1\" class=\"dataframe\">\n",
       "  <thead>\n",
       "    <tr style=\"text-align: right;\">\n",
       "      <th></th>\n",
       "      <th>Date</th>\n",
       "      <th>Page_Name</th>\n",
       "      <th>Page_ID</th>\n",
       "      <th>Link</th>\n",
       "      <th>Type</th>\n",
       "      <th>All_Reaction_Count</th>\n",
       "      <th>LIKE_COUNT</th>\n",
       "      <th>WOW_COUNT</th>\n",
       "      <th>LOVE_COUNT</th>\n",
       "      <th>HAHA_COUNT</th>\n",
       "      <th>...</th>\n",
       "      <th>ANGRY_COUNT</th>\n",
       "      <th>Comment_Count</th>\n",
       "      <th>Share_Count</th>\n",
       "      <th>Message</th>\n",
       "      <th>Link_Title</th>\n",
       "      <th>Link Description</th>\n",
       "      <th>created_time</th>\n",
       "      <th>Post_Date</th>\n",
       "      <th>Hour</th>\n",
       "      <th>Week</th>\n",
       "    </tr>\n",
       "  </thead>\n",
       "  <tbody>\n",
       "    <tr>\n",
       "      <th>3805</th>\n",
       "      <td>2019-12-06 16:00:01</td>\n",
       "      <td>中國國民黨 KMT</td>\n",
       "      <td>131181017972</td>\n",
       "      <td>NaN</td>\n",
       "      <td>video</td>\n",
       "      <td>0</td>\n",
       "      <td>0</td>\n",
       "      <td>0</td>\n",
       "      <td>0</td>\n",
       "      <td>0</td>\n",
       "      <td>...</td>\n",
       "      <td>0</td>\n",
       "      <td>0</td>\n",
       "      <td>0</td>\n",
       "      <td>【空汙越來越嚴重，難道要用愛發電嗎？】\\n\\n「以核養綠」與「反燃煤電廠」公投雙雙過關，蔡英...</td>\n",
       "      <td>空汙越來越嚴重，難道要用愛發電嗎？</td>\n",
       "      <td>NaN</td>\n",
       "      <td>1575619201000</td>\n",
       "      <td>2019/12/06</td>\n",
       "      <td>16</td>\n",
       "      <td>Friday</td>\n",
       "    </tr>\n",
       "  </tbody>\n",
       "</table>\n",
       "<p>1 rows × 21 columns</p>\n",
       "</div>"
      ],
      "text/plain": [
       "                    Date  Page_Name       Page_ID  Link   Type  \\\n",
       "3805 2019-12-06 16:00:01  中國國民黨 KMT  131181017972   NaN  video   \n",
       "\n",
       "      All_Reaction_Count  LIKE_COUNT  WOW_COUNT  LOVE_COUNT  HAHA_COUNT  ...  \\\n",
       "3805                   0           0          0           0           0  ...   \n",
       "\n",
       "      ANGRY_COUNT  Comment_Count  Share_Count  \\\n",
       "3805            0              0            0   \n",
       "\n",
       "                                                Message         Link_Title  \\\n",
       "3805  【空汙越來越嚴重，難道要用愛發電嗎？】\\n\\n「以核養綠」與「反燃煤電廠」公投雙雙過關，蔡英...  空汙越來越嚴重，難道要用愛發電嗎？   \n",
       "\n",
       "     Link Description   created_time   Post_Date Hour    Week  \n",
       "3805              NaN  1575619201000  2019/12/06   16  Friday  \n",
       "\n",
       "[1 rows x 21 columns]"
      ]
     },
     "execution_count": 34,
     "metadata": {},
     "output_type": "execute_result"
    }
   ],
   "source": [
    "df.tail(1) #顯示 df中前5個row"
   ]
  },
  {
   "cell_type": "code",
   "execution_count": 35,
   "metadata": {},
   "outputs": [
    {
     "data": {
      "text/plain": [
       "{'中國國民黨 KMT', '台灣基進', '台灣民眾黨', '基進黨（基進側翼）', '時代力量 New Power Party', '民主進步黨'}"
      ]
     },
     "execution_count": 35,
     "metadata": {},
     "output_type": "execute_result"
    }
   ],
   "source": [
    "#看一下df這個資料裡面的'Page_Name'欄位有幾個粉專名稱(政黨)\n",
    "dff = set(df['Page_Name'])\n",
    "dff"
   ]
  },
  {
   "cell_type": "code",
   "execution_count": 36,
   "metadata": {},
   "outputs": [
    {
     "data": {
      "text/plain": [
       "Page_Name\n",
       "中國國民黨 KMT               307\n",
       "台灣基進                    880\n",
       "台灣民眾黨                   359\n",
       "基進黨（基進側翼）                50\n",
       "時代力量 New Power Party    302\n",
       "民主進步黨                   787\n",
       "dtype: int64"
      ]
     },
     "execution_count": 36,
     "metadata": {},
     "output_type": "execute_result"
    }
   ],
   "source": [
    "#找出各政黨按讚數超過1000的文章各有幾篇\n",
    "#[]是索引的方式\n",
    "party = df[(df['LIKE_COUNT'] > 1000)].groupby(\"Page_Name\")\n",
    "party.size() #顯示出party的結果"
   ]
  },
  {
   "cell_type": "code",
   "execution_count": 37,
   "metadata": {},
   "outputs": [],
   "source": [
    "#把每個政黨每篇文章的按讚數相加\n",
    "#變數      依據政黨粉專名稱分類   取按讚數       相加\n",
    "p1 = party.get_group(\"中國國民黨 KMT\")['LIKE_COUNT'].agg('sum')\n",
    "p2 = party.get_group(\"民主進步黨\")['LIKE_COUNT'].agg('sum')\n",
    "p3 = party.get_group(\"中國國民黨 KMT\")['LIKE_COUNT'].agg('sum')\n",
    "p4 = party.get_group(\"台灣民眾黨\")['LIKE_COUNT'].agg('sum')\n",
    "p5 = party.get_group(\"時代力量 New Power Party\")['LIKE_COUNT'].agg('sum')"
   ]
  },
  {
   "cell_type": "code",
   "execution_count": 38,
   "metadata": {},
   "outputs": [
    {
     "data": {
      "text/plain": [
       "{'Name': ['台灣基進', '民主進步黨', '中國國民黨 KMT', '台灣民眾黨', '時代力量 New Power Party'],\n",
       " 'LIKE': [949674, 3397500, 949674, 870808, 840840]}"
      ]
     },
     "execution_count": 38,
     "metadata": {},
     "output_type": "execute_result"
    }
   ],
   "source": [
    "#把每個政黨的按讚總數，存成一個資料集dictionary\n",
    "\n",
    "data = {'Name':['台灣基進', '民主進步黨', '中國國民黨 KMT', '台灣民眾黨', '時代力量 New Power Party'],\n",
    "        'LIKE':[p1, p2, p3, p4, p5]}\n",
    "data"
   ]
  },
  {
   "cell_type": "code",
   "execution_count": 39,
   "metadata": {},
   "outputs": [],
   "source": [
    "df.sort_values(by=['LOVE_COUNT'], inplace=True)"
   ]
  },
  {
   "cell_type": "code",
   "execution_count": 40,
   "metadata": {},
   "outputs": [],
   "source": [
    "#把剛剛存好的政黨讚數data，轉成dataframe，叫做likedata\n",
    "likedata = pd.DataFrame(data)"
   ]
  },
  {
   "cell_type": "code",
   "execution_count": 41,
   "metadata": {},
   "outputs": [
    {
     "data": {
      "text/html": [
       "<div>\n",
       "<style scoped>\n",
       "    .dataframe tbody tr th:only-of-type {\n",
       "        vertical-align: middle;\n",
       "    }\n",
       "\n",
       "    .dataframe tbody tr th {\n",
       "        vertical-align: top;\n",
       "    }\n",
       "\n",
       "    .dataframe thead th {\n",
       "        text-align: right;\n",
       "    }\n",
       "</style>\n",
       "<table border=\"1\" class=\"dataframe\">\n",
       "  <thead>\n",
       "    <tr style=\"text-align: right;\">\n",
       "      <th></th>\n",
       "      <th>Name</th>\n",
       "      <th>LIKE</th>\n",
       "    </tr>\n",
       "  </thead>\n",
       "  <tbody>\n",
       "    <tr>\n",
       "      <th>4</th>\n",
       "      <td>時代力量 New Power Party</td>\n",
       "      <td>840840</td>\n",
       "    </tr>\n",
       "    <tr>\n",
       "      <th>3</th>\n",
       "      <td>台灣民眾黨</td>\n",
       "      <td>870808</td>\n",
       "    </tr>\n",
       "    <tr>\n",
       "      <th>0</th>\n",
       "      <td>台灣基進</td>\n",
       "      <td>949674</td>\n",
       "    </tr>\n",
       "    <tr>\n",
       "      <th>2</th>\n",
       "      <td>中國國民黨 KMT</td>\n",
       "      <td>949674</td>\n",
       "    </tr>\n",
       "    <tr>\n",
       "      <th>1</th>\n",
       "      <td>民主進步黨</td>\n",
       "      <td>3397500</td>\n",
       "    </tr>\n",
       "  </tbody>\n",
       "</table>\n",
       "</div>"
      ],
      "text/plain": [
       "                   Name     LIKE\n",
       "4  時代力量 New Power Party   840840\n",
       "3                 台灣民眾黨   870808\n",
       "0                  台灣基進   949674\n",
       "2             中國國民黨 KMT   949674\n",
       "1                 民主進步黨  3397500"
      ]
     },
     "execution_count": 41,
     "metadata": {},
     "output_type": "execute_result"
    }
   ],
   "source": [
    "likedata.sort_values(by='LIKE')"
   ]
  },
  {
   "cell_type": "code",
   "execution_count": 45,
   "metadata": {},
   "outputs": [
    {
     "name": "stdout",
     "output_type": "stream",
     "text": [
      "C:\\Users\\User\\Anaconda3\\lib\\site-packages\\matplotlib\\__init__.py\n"
     ]
    }
   ],
   "source": []
  },
  {
   "cell_type": "code",
   "execution_count": 48,
   "metadata": {},
   "outputs": [
    {
     "data": {
      "text/plain": [
       "<matplotlib.axes._subplots.AxesSubplot at 0x1e712526b00>"
      ]
     },
     "execution_count": 48,
     "metadata": {},
     "output_type": "execute_result"
    },
    {
     "data": {
      "image/png": "[encoded data removed]",
      "text/plain": [
       "<Figure size 432x288 with 1 Axes>"
      ]
     },
     "metadata": {},
     "output_type": "display_data"
    }
   ],
   "source": [
    "import matplotlib.pyplot as plt #載入要畫畫的套件，之後使用的時候呼叫plt就可以了\n",
    "\n",
    "#設定中文字形\n",
    "plt.rcParams['font.sans-serif']=['simsun'] \n",
    "#剛剛的likedata，可以利用plot.bar畫圖，設定xy軸的值各是likedata的name和LIKE\n",
    "likedata.plot.bar(x='Name', y='LIKE') "
   ]
  },
  {
   "cell_type": "code",
   "execution_count": 28,
   "metadata": {},
   "outputs": [
    {
     "name": "stdout",
     "output_type": "stream",
     "text": [
      "(3806, 18)\n",
      "Int64Index([1902, 3719, 3709, 3707, 3703, 3698, 3692, 3644, 3615, 3603,\n",
      "            ...\n",
      "               6,   16,   38,   17,    8,   14,    2,    0,   10,    3],\n",
      "           dtype='int64', length=3806)\n",
      "            Page_ID  Link  All_Reaction_Count    LIKE_COUNT    WOW_COUNT  \\\n",
      "count  3.806000e+03   0.0         3806.000000   3806.000000  3806.000000   \n",
      "mean   2.596224e+14   NaN         3327.254335   2938.954808    21.915134   \n",
      "std    3.040331e+14   NaN         4308.677732   3827.583854    71.346803   \n",
      "min    1.311810e+11   NaN            0.000000      0.000000     0.000000   \n",
      "25%    1.503364e+11   NaN          961.500000    871.000000     1.000000   \n",
      "50%    1.046994e+14   NaN         1946.000000   1760.000000     4.000000   \n",
      "75%    3.485711e+14   NaN         4236.750000   3666.250000    15.000000   \n",
      "max    8.910842e+14   NaN        80928.000000  74991.000000  1647.000000   \n",
      "\n",
      "        LOVE_COUNT   HAHA_COUNT    SAD_COUNT   ANGRY_COUNT  Comment_Count  \\\n",
      "count  3806.000000  3806.000000  3806.000000   3806.000000    3806.000000   \n",
      "mean     86.047556    85.672622    49.488702    145.172622     396.444036   \n",
      "std     236.830198   340.124814   323.089977    546.452259    1077.342110   \n",
      "min       0.000000     0.000000     0.000000      0.000000       0.000000   \n",
      "25%      11.000000     4.000000     0.000000      1.000000      46.000000   \n",
      "50%      31.000000    12.000000     1.000000      6.000000     140.000000   \n",
      "75%      82.750000    43.000000     8.000000     47.000000     365.750000   \n",
      "max    8065.000000  7114.000000  8453.000000  10983.000000   28413.000000   \n",
      "\n",
      "        Share_Count  created_time  \n",
      "count   3806.000000  3.806000e+03  \n",
      "mean     220.384393  1.568619e+12  \n",
      "std      810.743314  9.396957e+09  \n",
      "min        0.000000  1.546272e+12  \n",
      "25%       27.000000  1.561723e+12  \n",
      "50%       66.000000  1.571815e+12  \n",
      "75%      188.000000  1.576637e+12  \n",
      "max    24300.000000  1.580483e+12  \n",
      "['台灣基進' '中國國民黨 KMT' '基進黨（基進側翼）' '時代力量 New Power Party' '民主進步黨' '台灣民眾黨']\n"
     ]
    }
   ],
   "source": [
    "print(df.shape)  #這個 DataFrame 有幾列有幾欄\n",
    "print(df.index)  #這個 DataFrame 的列索引資訊\n",
    "print(df.describe()) #對所有資料做基本統計\n",
    "print(df['Page_Name'].unique()) #對看單個欄位的值有哪些\n",
    "print (\"each column has NaN\\n\", df.isnull().sum(),\"\\n\") #計算空值"
   ]
  },
  {
   "cell_type": "markdown",
   "metadata": {},
   "source": [
    "## =================================================================="
   ]
  },
  {
   "cell_type": "markdown",
   "metadata": {},
   "source": [
    "## 切割並新增欄位\n",
    "Date -> Year"
   ]
  },
  {
   "cell_type": "code",
   "execution_count": 11,
   "metadata": {},
   "outputs": [
    {
     "data": {
      "text/plain": [
       "['2020', '01', '11 20:07:46']"
      ]
     },
     "execution_count": 11,
     "metadata": {},
     "output_type": "execute_result"
    }
   ],
   "source": [
    "df['Date'][0]\n",
    "df['Date'][0].split(\"/\")"
   ]
  },
  {
   "cell_type": "code",
   "execution_count": 12,
   "metadata": {},
   "outputs": [],
   "source": [
    "df['Year'] = df['Date'].apply(lambda x : x.split(\"/\")[0])"
   ]
  },
  {
   "cell_type": "markdown",
   "metadata": {},
   "source": [
    "## Your turn!\n",
    "\n",
    "Date -> Month / Hour"
   ]
  },
  {
   "cell_type": "code",
   "execution_count": 13,
   "metadata": {},
   "outputs": [
    {
     "data": {
      "text/html": [
       "<div>\n",
       "<style scoped>\n",
       "    .dataframe tbody tr th:only-of-type {\n",
       "        vertical-align: middle;\n",
       "    }\n",
       "\n",
       "    .dataframe tbody tr th {\n",
       "        vertical-align: top;\n",
       "    }\n",
       "\n",
       "    .dataframe thead th {\n",
       "        text-align: right;\n",
       "    }\n",
       "</style>\n",
       "<table border=\"1\" class=\"dataframe\">\n",
       "  <thead>\n",
       "    <tr style=\"text-align: right;\">\n",
       "      <th></th>\n",
       "      <th>Name</th>\n",
       "      <th>LIKE</th>\n",
       "    </tr>\n",
       "  </thead>\n",
       "  <tbody>\n",
       "    <tr>\n",
       "      <th>0</th>\n",
       "      <td>台灣基進</td>\n",
       "      <td>949674</td>\n",
       "    </tr>\n",
       "    <tr>\n",
       "      <th>1</th>\n",
       "      <td>民主進步黨</td>\n",
       "      <td>3397500</td>\n",
       "    </tr>\n",
       "    <tr>\n",
       "      <th>2</th>\n",
       "      <td>中國國民黨 KMT</td>\n",
       "      <td>949674</td>\n",
       "    </tr>\n",
       "    <tr>\n",
       "      <th>3</th>\n",
       "      <td>台灣民眾黨</td>\n",
       "      <td>870808</td>\n",
       "    </tr>\n",
       "    <tr>\n",
       "      <th>4</th>\n",
       "      <td>時代力量 New Power Party</td>\n",
       "      <td>840840</td>\n",
       "    </tr>\n",
       "  </tbody>\n",
       "</table>\n",
       "</div>"
      ],
      "text/plain": [
       "                   Name     LIKE\n",
       "0                  台灣基進   949674\n",
       "1                 民主進步黨  3397500\n",
       "2             中國國民黨 KMT   949674\n",
       "3                 台灣民眾黨   870808\n",
       "4  時代力量 New Power Party   840840"
      ]
     },
     "execution_count": 13,
     "metadata": {},
     "output_type": "execute_result"
    }
   ],
   "source": [
    "likedata = pd.DataFrame(data)\n",
    "likedata"
   ]
  },
  {
   "cell_type": "markdown",
   "metadata": {},
   "source": [
    "## 找出comment數最多的文章內容"
   ]
  },
  {
   "cell_type": "code",
   "execution_count": 15,
   "metadata": {},
   "outputs": [
    {
     "name": "stdout",
     "output_type": "stream",
     "text": [
      "28413\n",
      "3    《2020 台灣要贏 LET'S WIN 開票之夜》\n",
      "Name: Message, dtype: object\n"
     ]
    }
   ],
   "source": [
    "import pandas as pd\n",
    "df = pd.read_csv(\"data/10802_2020_party.csv\")\n",
    "print(max(df.Comment_Count)) \n",
    "print(df[(df['Comment_Count'] == max(df.Comment_Count) )]['Message'])"
   ]
  },
  {
   "cell_type": "markdown",
   "metadata": {},
   "source": [
    "## Your turn!\n",
    "找出 All_Reaction_Count數最少的文章內容\n",
    "\n"
   ]
  },
  {
   "cell_type": "code",
   "execution_count": null,
   "metadata": {},
   "outputs": [],
   "source": []
  },
  {
   "cell_type": "markdown",
   "metadata": {},
   "source": [
    "## 取各個政黨 like > 1000 的文章數\n"
   ]
  },
  {
   "cell_type": "code",
   "execution_count": 51,
   "metadata": {},
   "outputs": [
    {
     "name": "stdout",
     "output_type": "stream",
     "text": [
      "              Page_Name  Date  Page_ID  Link  Type  文章數  LIKE_COUNT  \\\n",
      "3             基進黨（基進側翼）    50       50     0    50   50          50   \n",
      "4  時代力量 New Power Party   302      302     0   302  302         302   \n",
      "0             中國國民黨 KMT   307      307     0   307  307         307   \n",
      "2                 台灣民眾黨   359      359     0   359  359         359   \n",
      "5                 民主進步黨   787      787     0   787  787         787   \n",
      "1                  台灣基進   880      880     0   880  880         880   \n",
      "\n",
      "   WOW_COUNT  LOVE_COUNT  HAHA_COUNT  ...  ANGRY_COUNT  Comment_Count  \\\n",
      "3         50          50          50  ...           50             50   \n",
      "4        302         302         302  ...          302            302   \n",
      "0        307         307         307  ...          307            307   \n",
      "2        359         359         359  ...          359            359   \n",
      "5        787         787         787  ...          787            787   \n",
      "1        880         880         880  ...          880            880   \n",
      "\n",
      "   Share_Count  Message  Link_Title  Link Description  created_time  \\\n",
      "3           50       50          14                 3            50   \n",
      "4          302      298          59                11           302   \n",
      "0          307      303         173                14           307   \n",
      "2          359      348         106                20           359   \n",
      "5          787      696         581               273           787   \n",
      "1          880      880         284                37           880   \n",
      "\n",
      "   Post_Date  Hour  Week  \n",
      "3         50    50    50  \n",
      "4        302   302   302  \n",
      "0        307   307   307  \n",
      "2        359   359   359  \n",
      "5        787   787   787  \n",
      "1        880   880   880  \n",
      "\n",
      "[6 rows x 21 columns]\n",
      "['Page_Name' 'Date' 'Page_ID' 'Link' 'Type' '文章數' 'LIKE_COUNT' 'WOW_COUNT'\n",
      " 'LOVE_COUNT' 'HAHA_COUNT' 'SAD_COUNT' 'ANGRY_COUNT' 'Comment_Count'\n",
      " 'Share_Count' 'Message' 'Link_Title' 'Link Description' 'created_time'\n",
      " 'Post_Date' 'Hour' 'Week']\n"
     ]
    }
   ],
   "source": [
    "import pandas as pd\n",
    "import matplotlib.pyplot as plt\n",
    "import seaborn as sns\n",
    "import numpy as np\n",
    "\n",
    "plt.rcParams['font.sans-serif'] = ['simsun'] \n",
    "plt.rcParams['axes.unicode_minus'] = False\n",
    "sns.set(font=['sans-serif'])\n",
    "sns.set_style(\"whitegrid\",{\"font.sans-serif\":['simsun']})\n",
    "\n",
    "#count() 的用法是計算個數\n",
    "#試試看sum(),mean(),median()...\n",
    "\n",
    "likedf = df[(df['LIKE_COUNT'] > 1000)].groupby(by ='Page_Name').count().reset_index().sort_values('All_Reaction_Count')\n",
    "likedf = df[(df['LIKE_COUNT'] > 1000)].groupby(by ='Page_Name').count().reset_index().sort_values('All_Reaction_Count')\n",
    "likedf = likedf.rename(columns={'All_Reaction_Count': '文章數'})\n",
    "print(likedf)\n",
    "print(likedf.columns.values)"
   ]
  },
  {
   "cell_type": "markdown",
   "metadata": {},
   "source": [
    "## 畫成Bar Chart"
   ]
  },
  {
   "cell_type": "code",
   "execution_count": 52,
   "metadata": {},
   "outputs": [
    {
     "data": {
      "text/plain": [
       "<matplotlib.axes._subplots.AxesSubplot at 0x1e7135a66a0>"
      ]
     },
     "execution_count": 52,
     "metadata": {},
     "output_type": "execute_result"
    },
    {
     "data": {
      "image/png": "[encoded data removed]",
      "text/plain": [
       "<Figure size 432x288 with 1 Axes>"
      ]
     },
     "metadata": {},
     "output_type": "display_data"
    }
   ],
   "source": [
    "import matplotlib.pyplot as plt\n",
    "plt.rcParams['font.sans-serif']=['simsun']\n",
    "\n",
    "likedf.plot.bar(x='Page_Name', y='文章數')"
   ]
  },
  {
   "cell_type": "markdown",
   "metadata": {},
   "source": [
    "## Your turn!\n",
    "\n",
    "取出民進黨和國民黨文章中留言數>500的總讚數，並且畫成bar chart "
   ]
  },
  {
   "cell_type": "code",
   "execution_count": 53,
   "metadata": {},
   "outputs": [
    {
     "name": "stdout",
     "output_type": "stream",
     "text": [
      "   Page_Name         Page_ID  Link  All_Reaction_Count      總讚數  WOW_COUNT  \\\n",
      "0  中國國民黨 KMT  36861866050132   0.0             1047292   846985       7597   \n",
      "1      民主進步黨  28413587359773   0.0             1604607  1451307       5228   \n",
      "\n",
      "   LOVE_COUNT  HAHA_COUNT  SAD_COUNT  ANGRY_COUNT  Comment_Count  Share_Count  \\\n",
      "0       23097       64586       7511        97516         488870        79127   \n",
      "1       77311       19936       9337        41479         344118        64828   \n",
      "\n",
      "      created_time  \n",
      "0  441142294999000  \n",
      "1  296746417617000  \n",
      "['Page_Name' 'Page_ID' 'Link' 'All_Reaction_Count' '總讚數' 'WOW_COUNT'\n",
      " 'LOVE_COUNT' 'HAHA_COUNT' 'SAD_COUNT' 'ANGRY_COUNT' 'Comment_Count'\n",
      " 'Share_Count' 'created_time']\n"
     ]
    },
    {
     "data": {
      "text/plain": [
       "<matplotlib.axes._subplots.AxesSubplot at 0x1e71365f438>"
      ]
     },
     "execution_count": 53,
     "metadata": {},
     "output_type": "execute_result"
    },
    {
     "data": {
      "image/png": "[encoded data removed]",
      "text/plain": [
       "<Figure size 432x288 with 1 Axes>"
      ]
     },
     "metadata": {},
     "output_type": "display_data"
    }
   ],
   "source": [
    "import pandas as pd\n",
    "import matplotlib.pyplot as plt\n",
    "import seaborn as sns\n",
    "import numpy as np\n",
    "\n",
    "plt.rcParams['font.sans-serif'] = ['simsun'] \n",
    "plt.rcParams['axes.unicode_minus'] = False\n",
    "sns.set(font=['sans-serif'])\n",
    "sns.set_style(\"whitegrid\",{\"font.sans-serif\":['SimHei']})\n",
    "\n",
    "#count() 的用法是計算個數\n",
    "#試試看sum()\n",
    "likedf = df[((df['Page_Name'] == '民主進步黨') | (df['Page_Name'] == '中國國民黨 KMT')) & (df['Comment_Count'] > 500)].groupby(by ='Page_Name').sum().reset_index().sort_values('All_Reaction_Count')\n",
    "likedf = likedf.rename(columns={'LIKE_COUNT': '總讚數'})\n",
    "print(likedf)\n",
    "print(likedf.columns.values)\n",
    "\n",
    "import matplotlib.pyplot as plt\n",
    "plt.rcParams['font.sans-serif']=['simsun']       \n",
    "likedf.plot.bar(x='Page_Name', y='總讚數')"
   ]
  },
  {
   "cell_type": "markdown",
   "metadata": {},
   "source": [
    "## 台灣民眾黨發布文章type的比例\n"
   ]
  },
  {
   "cell_type": "code",
   "execution_count": 54,
   "metadata": {},
   "outputs": [
    {
     "name": "stdout",
     "output_type": "stream",
     "text": [
      "8     0.003759\n",
      "9     0.500000\n",
      "10    0.071429\n",
      "11    0.424812\n",
      "Name: Page_ID, dtype: float64\n"
     ]
    }
   ],
   "source": [
    "import pandas as pd\n",
    "df = pd.read_csv(\"data/10802_2020_party.csv\")\n",
    "df.head()\n",
    "likedf =  df.groupby(['Page_Name','Type']).count().reset_index()\n",
    "likedf =  likedf[likedf['Page_Name'] == '台灣民眾黨']\n",
    "likedf['Page_ID'] = likedf['Page_ID'].apply(lambda x :x/likedf['Page_ID'].sum())\n",
    "print(likedf['Page_ID'])"
   ]
  },
  {
   "cell_type": "markdown",
   "metadata": {},
   "source": [
    "## 畫成 pie chart"
   ]
  },
  {
   "cell_type": "code",
   "execution_count": 55,
   "metadata": {},
   "outputs": [
    {
     "data": {
      "text/plain": [
       "([<matplotlib.patches.Wedge at 0x1e711fb5278>,\n",
       "  <matplotlib.patches.Wedge at 0x1e711f93ba8>,\n",
       "  <matplotlib.patches.Wedge at 0x1e711f957b8>,\n",
       "  <matplotlib.patches.Wedge at 0x1e7120b6be0>],\n",
       " [Text(1.0999232825541922, 0.012991246868981803, 'link'),\n",
       "  Text(-0.025980681637458668, 1.0996931409177986, 'photo'),\n",
       "  Text(-1.0663402896640426, -0.2700340471851762, 'status'),\n",
       "  Text(0.25742146943211297, -1.0694550888538574, 'video')],\n",
       " [Text(0.5999581541204684, 0.007086134655808255, '0.4%'),\n",
       "  Text(-0.014171280893159272, 0.5998326223187992, '50.0%'),\n",
       "  Text(-0.5816401579985686, -0.14729129846464156, '7.1%'),\n",
       "  Text(0.14041171059933433, -0.5833391393748312, '42.5%')])"
      ]
     },
     "execution_count": 55,
     "metadata": {},
     "output_type": "execute_result"
    },
    {
     "data": {
      "image/png": "[encoded data removed]",
      "text/plain": [
       "<Figure size 432x288 with 1 Axes>"
      ]
     },
     "metadata": {},
     "output_type": "display_data"
    }
   ],
   "source": [
    "plt.pie(likedf['Page_ID'] , labels = likedf['Type'],autopct='%1.1f%%')"
   ]
  },
  {
   "cell_type": "markdown",
   "metadata": {},
   "source": [
    "## Your turn!\n",
    "\n",
    "取出各政黨的總發文數，並且畫成pie chart "
   ]
  },
  {
   "cell_type": "code",
   "execution_count": 56,
   "metadata": {},
   "outputs": [
    {
     "name": "stdout",
     "output_type": "stream",
     "text": [
      "              Page_Name  Date  Page_ID  Link  Type   文章數  LIKE_COUNT  \\\n",
      "3             基進黨（基進側翼）   171      171     0   171   171         171   \n",
      "0             中國國民黨 KMT   492      492     0   492   492         492   \n",
      "2                 台灣民眾黨   532      532     0   532   532         532   \n",
      "4  時代力量 New Power Party   574      574     0   574   574         574   \n",
      "5                 民主進步黨  1001     1001     0  1001  1001        1001   \n",
      "1                  台灣基進  1036     1036     0  1036  1036        1036   \n",
      "\n",
      "   WOW_COUNT  LOVE_COUNT  HAHA_COUNT  SAD_COUNT  ANGRY_COUNT  Comment_Count  \\\n",
      "3        171         171         171        171          171            171   \n",
      "0        492         492         492        492          492            492   \n",
      "2        532         532         532        532          532            532   \n",
      "4        574         574         574        574          574            574   \n",
      "5       1001        1001        1001       1001         1001           1001   \n",
      "1       1036        1036        1036       1036         1036           1036   \n",
      "\n",
      "   Share_Count  Message  Link_Title  Link Description  created_time  \n",
      "3          171      169          65                28           171  \n",
      "0          492      482         275                72           492  \n",
      "2          532      516         171                52           532  \n",
      "4          574      560         180                24           574  \n",
      "5         1001      855         767               415          1001  \n",
      "1         1036     1026         356                63          1036  \n"
     ]
    },
    {
     "data": {
      "text/plain": [
       "([<matplotlib.patches.Wedge at 0x1e71374a1d0>,\n",
       "  <matplotlib.patches.Wedge at 0x1e71374a8d0>,\n",
       "  <matplotlib.patches.Wedge at 0x1e71374af98>,\n",
       "  <matplotlib.patches.Wedge at 0x1e7137556a0>,\n",
       "  <matplotlib.patches.Wedge at 0x1e713755d68>,\n",
       "  <matplotlib.patches.Wedge at 0x1e713760470>],\n",
       " [Text(1.0890605379989489, 0.15474864966596724, '基進黨（基進側翼）'),\n",
       "  Text(0.8494828833265421, 0.6988410627139942, '中國國民黨 KMT'),\n",
       "  Text(0.040849474024167214, 1.099241247621262, '台灣民眾黨'),\n",
       "  Text(-0.8448496349845893, 0.704435301689521, '時代力量 New Power Party'),\n",
       "  Text(-0.9047264009172854, -0.6256757462801763, '民主進步黨'),\n",
       "  Text(0.7217182740845872, -0.8301341655734721, '台灣基進')],\n",
       " [Text(0.5940330207266993, 0.08440835436325485, '4.5%'),\n",
       "  Text(0.4633542999962956, 0.38118603420763314, '12.9%'),\n",
       "  Text(0.022281531285909387, 0.5995861350661429, '14.0%'),\n",
       "  Text(-0.4608270736279578, 0.3842374372851932, '15.1%'),\n",
       "  Text(-0.4934871277730647, -0.34127767978918705, '26.3%'),\n",
       "  Text(0.39366451313704753, -0.4528004539491665, '27.2%')])"
      ]
     },
     "execution_count": 56,
     "metadata": {},
     "output_type": "execute_result"
    },
    {
     "data": {
      "image/png": "[encoded data removed]",
      "text/plain": [
       "<Figure size 432x288 with 1 Axes>"
      ]
     },
     "metadata": {},
     "output_type": "display_data"
    }
   ],
   "source": [
    "likedf = df.groupby(by ='Page_Name').count().reset_index().sort_values('All_Reaction_Count')\n",
    "likedf = likedf.rename(columns={'All_Reaction_Count': '文章數'})\n",
    "print(likedf)\n",
    "plt.pie(likedf['文章數'] , labels = likedf['Page_Name'],autopct='%1.1f%%')"
   ]
  },
  {
   "cell_type": "markdown",
   "metadata": {},
   "source": [
    "# 畫出各政黨每個月的發文趨勢"
   ]
  },
  {
   "cell_type": "code",
   "execution_count": 1,
   "metadata": {},
   "outputs": [
    {
     "data": {
      "text/html": [
       "<div>\n",
       "<style scoped>\n",
       "    .dataframe tbody tr th:only-of-type {\n",
       "        vertical-align: middle;\n",
       "    }\n",
       "\n",
       "    .dataframe tbody tr th {\n",
       "        vertical-align: top;\n",
       "    }\n",
       "\n",
       "    .dataframe thead th {\n",
       "        text-align: right;\n",
       "    }\n",
       "</style>\n",
       "<table border=\"1\" class=\"dataframe\">\n",
       "  <thead>\n",
       "    <tr style=\"text-align: right;\">\n",
       "      <th></th>\n",
       "      <th>Date</th>\n",
       "      <th>Page_Name</th>\n",
       "      <th>Page_ID</th>\n",
       "      <th>Link</th>\n",
       "      <th>Type</th>\n",
       "      <th>All_Reaction_Count</th>\n",
       "      <th>LIKE_COUNT</th>\n",
       "      <th>WOW_COUNT</th>\n",
       "      <th>LOVE_COUNT</th>\n",
       "      <th>HAHA_COUNT</th>\n",
       "      <th>SAD_COUNT</th>\n",
       "      <th>ANGRY_COUNT</th>\n",
       "      <th>Comment_Count</th>\n",
       "      <th>Share_Count</th>\n",
       "      <th>Message</th>\n",
       "      <th>Link_Title</th>\n",
       "      <th>Link Description</th>\n",
       "      <th>created_time</th>\n",
       "    </tr>\n",
       "  </thead>\n",
       "  <tbody>\n",
       "    <tr>\n",
       "      <th>0</th>\n",
       "      <td>2020/01/11 20:07:46</td>\n",
       "      <td>台灣基進</td>\n",
       "      <td>348571125292077</td>\n",
       "      <td>NaN</td>\n",
       "      <td>photo</td>\n",
       "      <td>80928</td>\n",
       "      <td>74991</td>\n",
       "      <td>98</td>\n",
       "      <td>3847</td>\n",
       "      <td>1925</td>\n",
       "      <td>34</td>\n",
       "      <td>33</td>\n",
       "      <td>5732</td>\n",
       "      <td>4092</td>\n",
       "      <td>選舉過後，台灣基進不會停歇。\\n　\\n縱使韓國瑜沒有當選，他仍然在高雄破壞著我們的城市，仍會...</td>\n",
       "      <td>NaN</td>\n",
       "      <td>NaN</td>\n",
       "      <td>1578744466000</td>\n",
       "    </tr>\n",
       "  </tbody>\n",
       "</table>\n",
       "</div>"
      ],
      "text/plain": [
       "                  Date Page_Name          Page_ID  Link   Type  \\\n",
       "0  2020/01/11 20:07:46      台灣基進  348571125292077   NaN  photo   \n",
       "\n",
       "   All_Reaction_Count  LIKE_COUNT  WOW_COUNT  LOVE_COUNT  HAHA_COUNT  \\\n",
       "0               80928       74991         98        3847        1925   \n",
       "\n",
       "   SAD_COUNT  ANGRY_COUNT  Comment_Count  Share_Count  \\\n",
       "0         34           33           5732         4092   \n",
       "\n",
       "                                             Message Link_Title  \\\n",
       "0  選舉過後，台灣基進不會停歇。\\n　\\n縱使韓國瑜沒有當選，他仍然在高雄破壞著我們的城市，仍會...        NaN   \n",
       "\n",
       "  Link Description   created_time  \n",
       "0              NaN  1578744466000  "
      ]
     },
     "execution_count": 1,
     "metadata": {},
     "output_type": "execute_result"
    }
   ],
   "source": [
    "import pandas as pd\n",
    "csv_file = \"data/10802_2020_party.csv\"\n",
    "df = pd.read_csv(csv_file)\n",
    "\n",
    "df.head(1)"
   ]
  },
  {
   "cell_type": "markdown",
   "metadata": {},
   "source": [
    "首先我們把日期取出來，存到另外一個欄位Post_Date和Post_Year\n",
    "注意：這裡是因為Date還是str的型態才可以這樣切，如果之後轉成datetime就會出現錯誤。"
   ]
  },
  {
   "cell_type": "code",
   "execution_count": 2,
   "metadata": {},
   "outputs": [
    {
     "data": {
      "text/html": [
       "<div>\n",
       "<style scoped>\n",
       "    .dataframe tbody tr th:only-of-type {\n",
       "        vertical-align: middle;\n",
       "    }\n",
       "\n",
       "    .dataframe tbody tr th {\n",
       "        vertical-align: top;\n",
       "    }\n",
       "\n",
       "    .dataframe thead th {\n",
       "        text-align: right;\n",
       "    }\n",
       "</style>\n",
       "<table border=\"1\" class=\"dataframe\">\n",
       "  <thead>\n",
       "    <tr style=\"text-align: right;\">\n",
       "      <th></th>\n",
       "      <th>Date</th>\n",
       "      <th>Page_Name</th>\n",
       "      <th>Page_ID</th>\n",
       "      <th>Link</th>\n",
       "      <th>Type</th>\n",
       "      <th>All_Reaction_Count</th>\n",
       "      <th>LIKE_COUNT</th>\n",
       "      <th>WOW_COUNT</th>\n",
       "      <th>LOVE_COUNT</th>\n",
       "      <th>HAHA_COUNT</th>\n",
       "      <th>SAD_COUNT</th>\n",
       "      <th>ANGRY_COUNT</th>\n",
       "      <th>Comment_Count</th>\n",
       "      <th>Share_Count</th>\n",
       "      <th>Message</th>\n",
       "      <th>Link_Title</th>\n",
       "      <th>Link Description</th>\n",
       "      <th>created_time</th>\n",
       "      <th>Post_Date</th>\n",
       "      <th>Hour</th>\n",
       "    </tr>\n",
       "  </thead>\n",
       "  <tbody>\n",
       "    <tr>\n",
       "      <th>0</th>\n",
       "      <td>2020/01/11 20:07:46</td>\n",
       "      <td>台灣基進</td>\n",
       "      <td>348571125292077</td>\n",
       "      <td>NaN</td>\n",
       "      <td>photo</td>\n",
       "      <td>80928</td>\n",
       "      <td>74991</td>\n",
       "      <td>98</td>\n",
       "      <td>3847</td>\n",
       "      <td>1925</td>\n",
       "      <td>34</td>\n",
       "      <td>33</td>\n",
       "      <td>5732</td>\n",
       "      <td>4092</td>\n",
       "      <td>選舉過後，台灣基進不會停歇。\\n　\\n縱使韓國瑜沒有當選，他仍然在高雄破壞著我們的城市，仍會...</td>\n",
       "      <td>NaN</td>\n",
       "      <td>NaN</td>\n",
       "      <td>1578744466000</td>\n",
       "      <td>2020/01/11</td>\n",
       "      <td>20</td>\n",
       "    </tr>\n",
       "  </tbody>\n",
       "</table>\n",
       "</div>"
      ],
      "text/plain": [
       "                  Date Page_Name          Page_ID  Link   Type  \\\n",
       "0  2020/01/11 20:07:46      台灣基進  348571125292077   NaN  photo   \n",
       "\n",
       "   All_Reaction_Count  LIKE_COUNT  WOW_COUNT  LOVE_COUNT  HAHA_COUNT  \\\n",
       "0               80928       74991         98        3847        1925   \n",
       "\n",
       "   SAD_COUNT  ANGRY_COUNT  Comment_Count  Share_Count  \\\n",
       "0         34           33           5732         4092   \n",
       "\n",
       "                                             Message Link_Title  \\\n",
       "0  選舉過後，台灣基進不會停歇。\\n　\\n縱使韓國瑜沒有當選，他仍然在高雄破壞著我們的城市，仍會...        NaN   \n",
       "\n",
       "  Link Description   created_time   Post_Date Hour  \n",
       "0              NaN  1578744466000  2020/01/11   20  "
      ]
     },
     "execution_count": 2,
     "metadata": {},
     "output_type": "execute_result"
    }
   ],
   "source": [
    "df[\"Post_Date\"] = df[\"Date\"].str.split(\" \").str.get(0).str.title() \n",
    "#df.head(1)\n",
    "\n",
    "df[\"Hour\"] = df[\"Date\"].str.split(\" \").str.get(1).str.title().str.split(\":\").str.get(0)\n",
    "df.head(1)"
   ]
  },
  {
   "cell_type": "code",
   "execution_count": 3,
   "metadata": {},
   "outputs": [
    {
     "data": {
      "text/html": [
       "<div>\n",
       "<style scoped>\n",
       "    .dataframe tbody tr th:only-of-type {\n",
       "        vertical-align: middle;\n",
       "    }\n",
       "\n",
       "    .dataframe tbody tr th {\n",
       "        vertical-align: top;\n",
       "    }\n",
       "\n",
       "    .dataframe thead th {\n",
       "        text-align: right;\n",
       "    }\n",
       "</style>\n",
       "<table border=\"1\" class=\"dataframe\">\n",
       "  <thead>\n",
       "    <tr style=\"text-align: right;\">\n",
       "      <th></th>\n",
       "      <th>Date</th>\n",
       "      <th>Page_Name</th>\n",
       "      <th>Page_ID</th>\n",
       "      <th>Link</th>\n",
       "      <th>Type</th>\n",
       "      <th>All_Reaction_Count</th>\n",
       "      <th>LIKE_COUNT</th>\n",
       "      <th>WOW_COUNT</th>\n",
       "      <th>LOVE_COUNT</th>\n",
       "      <th>HAHA_COUNT</th>\n",
       "      <th>...</th>\n",
       "      <th>ANGRY_COUNT</th>\n",
       "      <th>Comment_Count</th>\n",
       "      <th>Share_Count</th>\n",
       "      <th>Message</th>\n",
       "      <th>Link_Title</th>\n",
       "      <th>Link Description</th>\n",
       "      <th>created_time</th>\n",
       "      <th>Post_Date</th>\n",
       "      <th>Hour</th>\n",
       "      <th>Week</th>\n",
       "    </tr>\n",
       "  </thead>\n",
       "  <tbody>\n",
       "    <tr>\n",
       "      <th>0</th>\n",
       "      <td>2020-01-11 20:07:46</td>\n",
       "      <td>台灣基進</td>\n",
       "      <td>348571125292077</td>\n",
       "      <td>NaN</td>\n",
       "      <td>photo</td>\n",
       "      <td>80928</td>\n",
       "      <td>74991</td>\n",
       "      <td>98</td>\n",
       "      <td>3847</td>\n",
       "      <td>1925</td>\n",
       "      <td>...</td>\n",
       "      <td>33</td>\n",
       "      <td>5732</td>\n",
       "      <td>4092</td>\n",
       "      <td>選舉過後，台灣基進不會停歇。\\n　\\n縱使韓國瑜沒有當選，他仍然在高雄破壞著我們的城市，仍會...</td>\n",
       "      <td>NaN</td>\n",
       "      <td>NaN</td>\n",
       "      <td>1578744466000</td>\n",
       "      <td>2020/01/11</td>\n",
       "      <td>20</td>\n",
       "      <td>Saturday</td>\n",
       "    </tr>\n",
       "  </tbody>\n",
       "</table>\n",
       "<p>1 rows × 21 columns</p>\n",
       "</div>"
      ],
      "text/plain": [
       "                 Date Page_Name          Page_ID  Link   Type  \\\n",
       "0 2020-01-11 20:07:46      台灣基進  348571125292077   NaN  photo   \n",
       "\n",
       "   All_Reaction_Count  LIKE_COUNT  WOW_COUNT  LOVE_COUNT  HAHA_COUNT  ...  \\\n",
       "0               80928       74991         98        3847        1925  ...   \n",
       "\n",
       "   ANGRY_COUNT  Comment_Count  Share_Count  \\\n",
       "0           33           5732         4092   \n",
       "\n",
       "                                             Message Link_Title  \\\n",
       "0  選舉過後，台灣基進不會停歇。\\n　\\n縱使韓國瑜沒有當選，他仍然在高雄破壞著我們的城市，仍會...        NaN   \n",
       "\n",
       "  Link Description   created_time   Post_Date Hour      Week  \n",
       "0              NaN  1578744466000  2020/01/11   20  Saturday  \n",
       "\n",
       "[1 rows x 21 columns]"
      ]
     },
     "execution_count": 3,
     "metadata": {},
     "output_type": "execute_result"
    }
   ],
   "source": [
    "#格式化時間\n",
    "df['Date'] = pd.to_datetime(df['Date'])\n",
    "\n",
    "df['Week'] = df['Date'].dt.strftime('%A')\n",
    "df.head(1)"
   ]
  },
  {
   "cell_type": "markdown",
   "metadata": {},
   "source": [
    "## 折線圖\n",
    "依據日期計算各政黨每個月的貼文成效\n",
    "包括讚數、心情、留言等\n",
    "p.s.注意有些欄位數字級距相差太大，放在同一張圖表會不好比較(ex:LIKE_COUNT、WOW_COUNT)"
   ]
  },
  {
   "cell_type": "markdown",
   "metadata": {},
   "source": [
    "### 單個政黨貼文成效比較\n",
    "每天民進黨獲得多少讚?"
   ]
  },
  {
   "cell_type": "code",
   "execution_count": 4,
   "metadata": {},
   "outputs": [
    {
     "data": {
      "text/plain": [
       "<matplotlib.axes._subplots.AxesSubplot at 0x2e08746efd0>"
      ]
     },
     "execution_count": 4,
     "metadata": {},
     "output_type": "execute_result"
    },
    {
     "data": {
      "image/png": "[encoded data removed]",
      "text/plain": [
       "<Figure size 432x288 with 1 Axes>"
      ]
     },
     "metadata": {
      "needs_background": "light"
     },
     "output_type": "display_data"
    }
   ],
   "source": [
    "#篩選各政黨的資料\n",
    "df_green = df[(df[\"Page_Name\"] == \"民主進步黨\" )]\n",
    "\n",
    "#一次抓很多筆\n",
    "like_green = df_green.groupby(df['Date'].dt.strftime('%Y/%m'))['All_Reaction_Count','LIKE_COUNT','WOW_COUNT','HAHA_COUNT','SAD_COUNT','ANGRY_COUNT','Comment_Count','Share_Count'].sum().reset_index()\n",
    "like_green\n",
    "\n",
    "#比較按讚數和留言數的數量\n",
    "like_green.plot(x='Date',y=['LIKE_COUNT','Comment_Count','All_Reaction_Count'])"
   ]
  },
  {
   "cell_type": "markdown",
   "metadata": {},
   "source": [
    "#### 畫法二：套件matplotlib"
   ]
  },
  {
   "cell_type": "code",
   "execution_count": 5,
   "metadata": {},
   "outputs": [
    {
     "data": {
      "text/plain": [
       "[<matplotlib.lines.Line2D at 0x2e088831390>]"
      ]
     },
     "execution_count": 5,
     "metadata": {},
     "output_type": "execute_result"
    },
    {
     "data": {
      "image/png": "[encoded data removed]",
      "text/plain": [
       "<Figure size 1080x288 with 1 Axes>"
      ]
     },
     "metadata": {
      "needs_background": "light"
     },
     "output_type": "display_data"
    }
   ],
   "source": [
    "import matplotlib.pyplot as plt\n",
    "\n",
    "plt.figure(figsize=(15,4)) #設定圖表大小\n",
    "\n",
    "plt.title(\"number of like\") # 加標題\n",
    "plt.xlabel(\"Post Time\")     # 加x軸標題\n",
    "plt.ylabel(\"number\")        # 加y軸標題   \n",
    "\n",
    "#可以用疊加的方式，把想要的變數畫上去\n",
    "plt.plot(like_green['Date'],like_green['LIKE_COUNT'])\n",
    "plt.plot(like_green['Date'],like_green['Comment_Count'])\n",
    "plt.plot(like_green['Date'],like_green['All_Reaction_Count'])"
   ]
  },
  {
   "cell_type": "markdown",
   "metadata": {},
   "source": [
    "## Your turn！\n",
    "。請問基進黨的按讚數和留言數有相似的趨勢嗎？"
   ]
  },
  {
   "cell_type": "markdown",
   "metadata": {},
   "source": [
    "### 每天國民黨發出多少文?\n",
    "在這邊我們用groupby的方式，把每個政黨一天會發幾篇文算出來\n",
    "再用matplotlib畫出來比較"
   ]
  },
  {
   "cell_type": "code",
   "execution_count": 7,
   "metadata": {},
   "outputs": [
    {
     "data": {
      "text/html": [
       "<div>\n",
       "<style scoped>\n",
       "    .dataframe tbody tr th:only-of-type {\n",
       "        vertical-align: middle;\n",
       "    }\n",
       "\n",
       "    .dataframe tbody tr th {\n",
       "        vertical-align: top;\n",
       "    }\n",
       "\n",
       "    .dataframe thead th {\n",
       "        text-align: right;\n",
       "    }\n",
       "</style>\n",
       "<table border=\"1\" class=\"dataframe\">\n",
       "  <thead>\n",
       "    <tr style=\"text-align: right;\">\n",
       "      <th></th>\n",
       "      <th>Page_Name</th>\n",
       "      <th>Post_Date</th>\n",
       "      <th>count</th>\n",
       "    </tr>\n",
       "  </thead>\n",
       "  <tbody>\n",
       "    <tr>\n",
       "      <th>0</th>\n",
       "      <td>中國國民黨 KMT</td>\n",
       "      <td>2019/01/01</td>\n",
       "      <td>2</td>\n",
       "    </tr>\n",
       "    <tr>\n",
       "      <th>1</th>\n",
       "      <td>中國國民黨 KMT</td>\n",
       "      <td>2019/01/02</td>\n",
       "      <td>1</td>\n",
       "    </tr>\n",
       "    <tr>\n",
       "      <th>2</th>\n",
       "      <td>中國國民黨 KMT</td>\n",
       "      <td>2019/01/03</td>\n",
       "      <td>1</td>\n",
       "    </tr>\n",
       "    <tr>\n",
       "      <th>3</th>\n",
       "      <td>中國國民黨 KMT</td>\n",
       "      <td>2019/01/04</td>\n",
       "      <td>1</td>\n",
       "    </tr>\n",
       "    <tr>\n",
       "      <th>4</th>\n",
       "      <td>中國國民黨 KMT</td>\n",
       "      <td>2019/01/09</td>\n",
       "      <td>2</td>\n",
       "    </tr>\n",
       "    <tr>\n",
       "      <th>...</th>\n",
       "      <td>...</td>\n",
       "      <td>...</td>\n",
       "      <td>...</td>\n",
       "    </tr>\n",
       "    <tr>\n",
       "      <th>298</th>\n",
       "      <td>中國國民黨 KMT</td>\n",
       "      <td>2020/01/17</td>\n",
       "      <td>1</td>\n",
       "    </tr>\n",
       "    <tr>\n",
       "      <th>299</th>\n",
       "      <td>中國國民黨 KMT</td>\n",
       "      <td>2020/01/20</td>\n",
       "      <td>1</td>\n",
       "    </tr>\n",
       "    <tr>\n",
       "      <th>300</th>\n",
       "      <td>中國國民黨 KMT</td>\n",
       "      <td>2020/01/22</td>\n",
       "      <td>2</td>\n",
       "    </tr>\n",
       "    <tr>\n",
       "      <th>301</th>\n",
       "      <td>中國國民黨 KMT</td>\n",
       "      <td>2020/01/24</td>\n",
       "      <td>1</td>\n",
       "    </tr>\n",
       "    <tr>\n",
       "      <th>302</th>\n",
       "      <td>中國國民黨 KMT</td>\n",
       "      <td>2020/01/30</td>\n",
       "      <td>1</td>\n",
       "    </tr>\n",
       "  </tbody>\n",
       "</table>\n",
       "<p>303 rows × 3 columns</p>\n",
       "</div>"
      ],
      "text/plain": [
       "     Page_Name   Post_Date  count\n",
       "0    中國國民黨 KMT  2019/01/01      2\n",
       "1    中國國民黨 KMT  2019/01/02      1\n",
       "2    中國國民黨 KMT  2019/01/03      1\n",
       "3    中國國民黨 KMT  2019/01/04      1\n",
       "4    中國國民黨 KMT  2019/01/09      2\n",
       "..         ...         ...    ...\n",
       "298  中國國民黨 KMT  2020/01/17      1\n",
       "299  中國國民黨 KMT  2020/01/20      1\n",
       "300  中國國民黨 KMT  2020/01/22      2\n",
       "301  中國國民黨 KMT  2020/01/24      1\n",
       "302  中國國民黨 KMT  2020/01/30      1\n",
       "\n",
       "[303 rows x 3 columns]"
      ]
     },
     "execution_count": 7,
     "metadata": {},
     "output_type": "execute_result"
    }
   ],
   "source": [
    "#把每個政黨每天發幾篇文算一次\n",
    "df_post = df.groupby(['Page_Name','Post_Date'])['LIKE_COUNT'].count().reset_index(name='count')\n",
    "#注意要加'reset_index(name='count')'才會變成dataframe\n",
    "#df_post\n",
    "\n",
    "#把國民黨單獨拿出來\n",
    "df_blue = df_post[df_post['Page_Name']=='中國國民黨 KMT']\n",
    "\n",
    "df_blue"
   ]
  },
  {
   "cell_type": "code",
   "execution_count": 8,
   "metadata": {},
   "outputs": [
    {
     "data": {
      "image/png": "[encoded data removed]",
      "text/plain": [
       "<Figure size 1080x288 with 1 Axes>"
      ]
     },
     "metadata": {
      "needs_background": "light"
     },
     "output_type": "display_data"
    }
   ],
   "source": [
    "import matplotlib.ticker as ticker\n",
    "\n",
    "plt.figure(figsize=(15,4)) #設定圖表大小\n",
    "\n",
    "plt.title(\"Number of Post\") # 加標題\n",
    "plt.xlabel(\"Time\")          # 加x軸標題\n",
    "plt.ylabel(\"Number of Post\")        # 加y軸標題   \n",
    "\n",
    "plt.plot(df_blue['Post_Date'],df_blue['count'])\n",
    "plt.gca().xaxis.set_major_locator(ticker.MultipleLocator(40)) #調整x軸要顯示幾個值\n",
    "plt.show()"
   ]
  },
  {
   "cell_type": "markdown",
   "metadata": {},
   "source": [
    "## Your turn！\n",
    "。請畫出民進黨每天的發文折線圖"
   ]
  },
  {
   "cell_type": "markdown",
   "metadata": {},
   "source": [
    "## 畫出各政黨每個月的發文熱圖\n",
    "\n",
    "這次我們抓出單一政黨，看該粉專哪個時間的發文頻率最高\n",
    "顏色最深的色塊代表發文熱度最高"
   ]
  },
  {
   "cell_type": "code",
   "execution_count": 11,
   "metadata": {},
   "outputs": [
    {
     "data": {
      "text/html": [
       "<div>\n",
       "<style scoped>\n",
       "    .dataframe tbody tr th:only-of-type {\n",
       "        vertical-align: middle;\n",
       "    }\n",
       "\n",
       "    .dataframe tbody tr th {\n",
       "        vertical-align: top;\n",
       "    }\n",
       "\n",
       "    .dataframe thead th {\n",
       "        text-align: right;\n",
       "    }\n",
       "</style>\n",
       "<table border=\"1\" class=\"dataframe\">\n",
       "  <thead>\n",
       "    <tr style=\"text-align: right;\">\n",
       "      <th></th>\n",
       "      <th>Week</th>\n",
       "      <th>Hour</th>\n",
       "      <th>count</th>\n",
       "    </tr>\n",
       "  </thead>\n",
       "  <tbody>\n",
       "    <tr>\n",
       "      <th>0</th>\n",
       "      <td>Friday</td>\n",
       "      <td>00</td>\n",
       "      <td>1</td>\n",
       "    </tr>\n",
       "    <tr>\n",
       "      <th>1</th>\n",
       "      <td>Friday</td>\n",
       "      <td>09</td>\n",
       "      <td>17</td>\n",
       "    </tr>\n",
       "    <tr>\n",
       "      <th>2</th>\n",
       "      <td>Friday</td>\n",
       "      <td>10</td>\n",
       "      <td>16</td>\n",
       "    </tr>\n",
       "    <tr>\n",
       "      <th>3</th>\n",
       "      <td>Friday</td>\n",
       "      <td>11</td>\n",
       "      <td>5</td>\n",
       "    </tr>\n",
       "    <tr>\n",
       "      <th>4</th>\n",
       "      <td>Friday</td>\n",
       "      <td>12</td>\n",
       "      <td>8</td>\n",
       "    </tr>\n",
       "    <tr>\n",
       "      <th>...</th>\n",
       "      <td>...</td>\n",
       "      <td>...</td>\n",
       "      <td>...</td>\n",
       "    </tr>\n",
       "    <tr>\n",
       "      <th>83</th>\n",
       "      <td>Wednesday</td>\n",
       "      <td>17</td>\n",
       "      <td>9</td>\n",
       "    </tr>\n",
       "    <tr>\n",
       "      <th>84</th>\n",
       "      <td>Wednesday</td>\n",
       "      <td>18</td>\n",
       "      <td>3</td>\n",
       "    </tr>\n",
       "    <tr>\n",
       "      <th>85</th>\n",
       "      <td>Wednesday</td>\n",
       "      <td>20</td>\n",
       "      <td>1</td>\n",
       "    </tr>\n",
       "    <tr>\n",
       "      <th>86</th>\n",
       "      <td>Wednesday</td>\n",
       "      <td>21</td>\n",
       "      <td>1</td>\n",
       "    </tr>\n",
       "    <tr>\n",
       "      <th>87</th>\n",
       "      <td>Wednesday</td>\n",
       "      <td>23</td>\n",
       "      <td>1</td>\n",
       "    </tr>\n",
       "  </tbody>\n",
       "</table>\n",
       "<p>88 rows × 3 columns</p>\n",
       "</div>"
      ],
      "text/plain": [
       "         Week Hour  count\n",
       "0      Friday   00      1\n",
       "1      Friday   09     17\n",
       "2      Friday   10     16\n",
       "3      Friday   11      5\n",
       "4      Friday   12      8\n",
       "..        ...  ...    ...\n",
       "83  Wednesday   17      9\n",
       "84  Wednesday   18      3\n",
       "85  Wednesday   20      1\n",
       "86  Wednesday   21      1\n",
       "87  Wednesday   23      1\n",
       "\n",
       "[88 rows x 3 columns]"
      ]
     },
     "execution_count": 11,
     "metadata": {},
     "output_type": "execute_result"
    }
   ],
   "source": [
    "#選出國民黨的發文\n",
    "df_blue = df[df['Page_Name']=='中國國民黨 KMT']\n",
    "\n",
    "#算每星期每小時發了幾篇\n",
    "df_post_blue = df_blue.groupby(['Week','Hour'])['LIKE_COUNT'].count().reset_index(name='count')\n",
    "\n",
    "df_post_blue"
   ]
  },
  {
   "cell_type": "code",
   "execution_count": 12,
   "metadata": {},
   "outputs": [
    {
     "data": {
      "image/png": "[encoded data removed]",
      "text/plain": [
       "<Figure size 648x432 with 2 Axes>"
      ]
     },
     "metadata": {},
     "output_type": "display_data"
    }
   ],
   "source": [
    "import matplotlib.pyplot as plt\n",
    "import seaborn as sns\n",
    "sns.set()\n",
    "\n",
    "flights = df_post_blue.pivot(\"Week\", \"Hour\", \"count\")\n",
    "# 畫出x-y-z的圖，比如 年-月-銷量 的熱圖\n",
    "f, ax = plt.subplots(figsize=(9, 6))\n",
    "#使用不同的顏色\n",
    "sns.heatmap(flights, fmt=\"d\",cmap='YlGnBu', ax=ax)\n",
    "#設置座標字體方向\n",
    "label_y = ax.get_yticklabels()\n",
    "plt.setp(label_y, rotation=360, horizontalalignment='right')\n",
    "label_x = ax.get_xticklabels()\n",
    "plt.setp(label_x, rotation=45, horizontalalignment='right')\n",
    "plt.show()"
   ]
  },
  {
   "cell_type": "markdown",
   "metadata": {},
   "source": [
    "## Your turn！\n",
    "。請問總體來看，最熱門的發文時段是哪時候？"
   ]
  }
 ],
 "metadata": {
  "kernelspec": {
   "display_name": "Python 3",
   "language": "python",
   "name": "python3"
  },
  "language_info": {
   "codemirror_mode": {
    "name": "ipython",
    "version": 3
   },
   "file_extension": ".py",
   "mimetype": "text/x-python",
   "name": "python",
   "nbconvert_exporter": "python",
   "pygments_lexer": "ipython3",
   "version": "3.7.3"
  }
 },
 "nbformat": 4,
 "nbformat_minor": 2
}
